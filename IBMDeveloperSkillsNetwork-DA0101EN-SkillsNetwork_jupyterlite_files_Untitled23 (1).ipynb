{
  "metadata": {
    "language_info": {
      "codemirror_mode": {
        "name": "python",
        "version": 3
      },
      "file_extension": ".py",
      "mimetype": "text/x-python",
      "name": "python",
      "nbconvert_exporter": "python",
      "pygments_lexer": "ipython3",
      "version": "3.8"
    },
    "kernelspec": {
      "name": "python",
      "display_name": "Pyolite",
      "language": "python"
    }
  },
  "nbformat_minor": 4,
  "nbformat": 4,
  "cells": [
    {
      "cell_type": "markdown",
      "source": "# Tools For Data Science - Final Project",
      "metadata": {}
    },
    {
      "cell_type": "markdown",
      "source": "This is the final project for the \"Tools for Data Science\" course. We have learned about the different types of software and programming languages that is used by data scientists. ",
      "metadata": {}
    },
    {
      "cell_type": "markdown",
      "source": "The most common data science languages are\n1. Python\n1. R\n1. SQL\n",
      "metadata": {}
    },
    {
      "cell_type": "markdown",
      "source": "The most common data science packages are\n\n1. Pandas \n1. ggplot2 \n1. MatPlotLib \n1. Keras \n1. Scipy \n1. TensorFlow",
      "metadata": {}
    },
    {
      "cell_type": "markdown",
      "source": "The most common data science tools are\n\n| Data Management | ETL | Visualization | Model Deployment | Monitoring/Asessment |\n|-----------------|-----|---------------|------------------|----------------------|\n| MySQL | Airflow | Hue | PredictionIO | ModelDB |\n| PostgreSQL | Kubeflow | Kibana | Seldom | Prometheus |\n| CouchDB | kafka | Superset | Kubernetes | AIExplainability |\n| MongoDB | nifi | | Openshift | |\n| Hadoop | Spark | | Mleap | |\n| Cassandra | Node-Red | | Tensorflow | |\n| Ceph | | | | |",
      "metadata": {}
    },
    {
      "cell_type": "markdown",
      "source": "You can do a wide variety of arithmetic expresions in python, such as addition, subtraction, multiplication, and division.",
      "metadata": {}
    },
    {
      "cell_type": "code",
      "source": "print(\"4 times 6 equals %s\" %(4*6))\nprint(\"4 plus 6 equals %s\" %(4+6))",
      "metadata": {
        "trusted": true
      },
      "execution_count": 5,
      "outputs": [
        {
          "name": "stdout",
          "text": "4 times 6 equals 24\n4 plus 6 equals 10\n",
          "output_type": "stream"
        }
      ]
    },
    {
      "cell_type": "code",
      "source": "minutes = 180\nprint(\"%s minutes converted to hours is %s hours\" %(minutes, minutes/60))",
      "metadata": {
        "trusted": true
      },
      "execution_count": 6,
      "outputs": [
        {
          "name": "stdout",
          "text": "180 minutes converted to hours is 3.0 hours\n",
          "output_type": "stream"
        }
      ]
    },
    {
      "cell_type": "markdown",
      "source": "The primary objectives of data science are\n\n- Data Management\n- Data Integration and Transformation\n- Data Visualization\n- Model Development\n- Model Deployment\n- Monitoring and Assesing",
      "metadata": {}
    },
    {
      "cell_type": "markdown",
      "source": "The Author of this document is Zackary Frazier",
      "metadata": {}
    }
  ]
}